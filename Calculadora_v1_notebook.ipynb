{
 "cells": [
  {
   "cell_type": "markdown",
   "metadata": {},
   "source": [
    "<h1> <b> <font color=\"#8a0e0e\"> Calculadora Python </font> </b> </h1>\n"
   ]
  },
  {
   "cell_type": "markdown",
   "metadata": {},
   "source": [
    "<h2> <font color='#8a4a0e'> Objetivo </font> </h2>"
   ]
  },
  {
   "cell_type": "markdown",
   "metadata": {},
   "source": [
    >"O objetivo do presente projeto foi o desenvolvimento de uma calculadora simples com as quatro operações básicas para a aplicação entre dois números. O foco não foi a simplificação ou o tempo de execução do código, mas sim o desenvolvimento e treinamento práticos de fundamentos vistos na teoria, como por exemplo, a definição de funções, utilização de loops com o termo reservado 'while', condicionais utilizando 'if', 'elif' e 'else', entre outros conceitos."
   ]
  },
  {
   "cell_type": "markdown",
   "metadata": {},
   "source": [
    "<h2> <font color='#8a4a0e'> Ferramentas Necessárias </font> </h2>"
   ]
  },
  {
   "cell_type": "markdown",
   "metadata": {},
   "source": [
    "Python 3.9.13"
   ]
  },
  {
   "cell_type": "markdown",
   "metadata": {},
   "source": [
    "<h2> <font color='#8a4a0e'> Desenvolvimento do código </font> </h2>"
   ]
  },
  {
   "cell_type": "markdown",
   "metadata": {},
   "source": [
    "<b> A linha de código abaixo é necessária para ter acesso ao módulo OS, que possui ferramentas para interagir com o Sistema Operacional. </b>"
   ]
  },
  {
   "cell_type": "code",
   "execution_count": 2,
   "metadata": {},
   "outputs": [],
   "source": [
    "from os import system, name"
   ]
  },
  {
   "cell_type": "markdown",
   "metadata": {},
   "source": [
    "<b> O próximo bloco de código é uma função necessária para realizar uma limpeza de tela sempre que o programa é executado para assim ter uma tela com as informações da execução atual. </b>"
   ]
  },
  {
   "cell_type": "code",
   "execution_count": null,
   "metadata": {},
   "outputs": [],
   "source": [
    "def limpa_tela():\n",
    "    # Definindo um condicional para Windows\n",
    "    if name == 'nt':\n",
    "        _ = system('cls')\n",
    "    # Definindo outra claúsula para MacOS ou Linux\n",
    "    else:\n",
    "        _ = system('clear')"
   ]
  },
  {
   "cell_type": "markdown",
   "metadata": {},
   "source": [
    "<b>O primeiro passo escolhido para o desenvolvimento do código foi uma função capaz de realizar uma das quatro operações básicas.</b>"
   ]
  },
  {
   "cell_type": "code",
   "execution_count": null,
   "metadata": {},
   "outputs": [],
   "source": [
    "def operação():\n",
    "    # Definindo a variável 'operador' como global para utilizá-la como variável de outra função\n",
    "    global operador\n",
    "    # Definindo a variável 'escolha' como uma opção fora das 4 opções escolhidas para cada operação\n",
    "    escolha = 0\n",
    "    # Este loop é necessário para evitar que o usuário selecione algum número que não corresponda a uma das operações\n",
    "    while 1 > escolha or 4 < escolha:\n",
    "        escolha = int(input('---------\\nEscolha a operação, digitando o respectivo número\\n[1] - Soma\\n[2] - Substração\\n[3] - Multiplicação\\n[4] - Divisão\\n---------\\n'))\n",
    "        if 1 <= escolha <= 4:\n",
    "            break\n",
    "    # Este bloco serve para guardar a operação escolhida na variável 'operador'\n",
    "    if escolha == 1:\n",
    "        operador = 1\n",
    "        return \n",
    "    elif escolha == 2:\n",
    "        operador = 2\n",
    "        return\n",
    "    elif escolha == 3:\n",
    "        operador = 3\n",
    "        return\n",
    "    elif escolha == 4:\n",
    "        operador = 4\n",
    "        return"
   ]
  },
  {
   "cell_type": "markdown",
   "metadata": {},
   "source": [
    "<b>Com a escolha do usuário salva na variável 'operador', agora o objetivo é construir uma função que realize a operação desejada nos números inseridos. A função operação() poderia ser acrescentada no bloco 'main' que será determinado posteriormente. </b>"
   ]
  },
  {
   "cell_type": "code",
   "execution_count": null,
   "metadata": {},
   "outputs": [],
   "source": [
    "def resultado():\n",
    "    operação()\n",
    "    # Define-se uma variável que aceita valores do tipo 'float' que guardará o resultado da operação\n",
    "    num = float\n",
    "    # Se a variável 'operador' tiver recebido o valor 1, realizará a operação de soma, valor 2 realizará a subtração, valor 3 realizará a multiplicação e o valor 4 realizará a divisão\n",
    "    if operador == 1:\n",
    "        # O resultado será arredondado para apresentar até 8 casas decimais pela função 'round()'\n",
    "        # Os números m e n serão definidos durante a execução do bloco 'main'\n",
    "        num = round(m + n,8)\n",
    "        # O valor será recebido na tela, junto da operação\n",
    "        print(f'---------\\n{m} + {n} = {num}\\nO resultado é igual a {num}')\n",
    "    elif operador == 2:\n",
    "        num = round(m - n,8)\n",
    "        print(f'---------\\n{m} - {n} = {num}\\nO resultado é igual a {num}')\n",
    "    elif operador == 3:\n",
    "        num = round(m * n,8)\n",
    "        print(f'---------\\n{m} x {n} = {num}\\nO resultado é igual a {num}')\n",
    "    elif operador == 4:\n",
    "        num = round(m / n,8)\n",
    "        print(f'---------\\n{m} / {n} = {num}\\nO resultado é igual a {num}')\n",
    "    # Um loop é realizado para receber a decisão do usuário de continuar realizando operações ou não\n",
    "    resposta = 0\n",
    "    # Se o usuário inserir um número diferente de 1 e 2, o programa prosseguirá pedindo, até que seja inserido o 1 ou o 2\n",
    "    while 1 > resposta or 2 < resposta:\n",
    "        resposta = int(input('---------\\nVocê deseja realizar outra operação?\\n[1] - Sim\\n[2] - Não\\n---------\\n'))\n",
    "    # Se for escolhida a realização de outra operação, o código segue o loop, enquanto a resposta obtiver valor igual a 1\n",
    "    while resposta == 1:\n",
    "        a = float(input('---------\\nInsira o segundo número:\\n'))\n",
    "        operação()\n",
    "        resposta = 0\n",
    "        if operador == 1:\n",
    "            num_n = round(num + a,8)\n",
    "            print(f'---------\\n{num} + {a} = {num_n}\\nO resultado é igual a {num_n}')\n",
    "            num = num_n\n",
    "            while 1 > resposta or 2 < resposta:\n",
    "                resposta = int(input('---------\\nVocê deseja realizar outra operação?\\n[1] - Sim\\n[2] - Não\\n---------\\n'))\n",
    "        elif operador == 2:\n",
    "            num_n = round(num - a,8)\n",
    "            print(f'---------\\n{num} - {a} = {num_n}\\nO resultado é igual a {num_n}')\n",
    "            num = num_n\n",
    "            while 1 > resposta or 2 < resposta:\n",
    "                resposta = int(input('---------\\nVocê deseja realizar outra operação?\\n[1] - Sim\\n[2] - Não\\n---------\\n'))\n",
    "        elif operador == 3:\n",
    "            num_n = round(num * a,8)\n",
    "            print(f'---------\\n{num} x {a} = {num_n}\\nO resultado é igual a {num_n}')\n",
    "            num = num_n\n",
    "            while 1 > resposta or 2 < resposta:\n",
    "                resposta = int(input('---------\\nVocê deseja realizar outra operação?\\n[1] - Sim\\n[2] - Não\\n---------\\n'))\n",
    "        elif operador == 4:\n",
    "            num_n = round(num / a,8)\n",
    "            print(f'---------\\n{num} / {a} = {num_n}\\nO resultado é igual a {num_n}')\n",
    "            num = num_n\n",
    "            while 1 > resposta or 2 < resposta:\n",
    "                resposta = int(input('---------\\nVocê deseja realizar outra operação?\\n[1] - Sim\\n[2] - Não\\n---------\\n'))\n",
    "    # Se for escolhido não realizar operação, a mensagem é mostrada com o resultado\n",
    "    print(f'---------\\nO resultado é igual a {num}\\n-----------Fim da operação-----------')\n",
    "    return"
   ]
  },
  {
   "cell_type": "markdown",
   "metadata": {},
   "source": [
    "<b>Agora será montado o bloco 'main' que realiza a execução do programa na ordem definida. Primeiramente, a função limpa_tela() é chamada para realizar a limpeza de tela. O título do programa é mostrado como \"Calculadora em Python\" e então os números para a realização da operação desejada são pedidos e guardados nas variáveis 'm' e 'n' com tipo float. Depois a função resultado() é chamada, ela chama a função operação() para guardar a escolha da operação do usuário e depois realiza o fluxo apresentado acima para a realização das operações desejadas.</b>"
   ]
  },
  {
   "cell_type": "code",
   "execution_count": null,
   "metadata": {},
   "outputs": [],
   "source": [
    "if __name__ == \"__main__\":\n",
    "    limpa_tela()\n",
    "    print(\"\\n****************** Calculadora em Python ******************\")\n",
    "    m = float(input('\\nInsira o primeiro número:\\n'))\n",
    "    n = float(input('\\nInsira o segundo número:\\n'))\n",
    "    resultado()"
   ]
  }
 ],
 "metadata": {
  "kernelspec": {
   "display_name": "myenv",
   "language": "python",
   "name": "python3"
  },
  "language_info": {
   "codemirror_mode": {
    "name": "ipython",
    "version": 3
   },
   "file_extension": ".py",
   "mimetype": "text/x-python",
   "name": "python",
   "nbconvert_exporter": "python",
   "pygments_lexer": "ipython3",
   "version": "3.10.13"
  }
 },
 "nbformat": 4,
 "nbformat_minor": 2
}
